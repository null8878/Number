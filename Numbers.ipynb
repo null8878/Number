{
 "cells": [
  {
   "cell_type": "code",
   "id": "initial_id",
   "metadata": {
    "collapsed": true,
    "ExecuteTime": {
     "end_time": "2025-06-12T06:00:58.736565Z",
     "start_time": "2025-06-12T06:00:58.722970Z"
    }
   },
   "source": [
    "seconds = 60\n",
    "hour = 60\n",
    "seconds_per_hour = seconds * hour\n",
    "print(seconds_per_hour)"
   ],
   "outputs": [
    {
     "name": "stdout",
     "output_type": "stream",
     "text": [
      "3600\n"
     ]
    }
   ],
   "execution_count": 13
  },
  {
   "metadata": {
    "ExecuteTime": {
     "end_time": "2025-06-12T06:04:54.682720Z",
     "start_time": "2025-06-12T06:04:54.678969Z"
    }
   },
   "cell_type": "code",
   "source": [
    "secondInDay = seconds_per_hour * 24\n",
    "print(secondInDay)"
   ],
   "id": "676e2f113217bd7b",
   "outputs": [
    {
     "name": "stdout",
     "output_type": "stream",
     "text": [
      "86400\n"
     ]
    }
   ],
   "execution_count": 19
  },
  {
   "metadata": {
    "ExecuteTime": {
     "end_time": "2025-06-12T06:14:43.609852Z",
     "start_time": "2025-06-12T06:14:43.599365Z"
    }
   },
   "cell_type": "code",
   "source": [
    "result_float = secondInDay / seconds_per_hour\n",
    "print(result_float)"
   ],
   "id": "705efacf10f10726",
   "outputs": [
    {
     "name": "stdout",
     "output_type": "stream",
     "text": [
      "24.0\n"
     ]
    }
   ],
   "execution_count": 20
  },
  {
   "metadata": {
    "ExecuteTime": {
     "end_time": "2025-06-12T06:15:49.766238Z",
     "start_time": "2025-06-12T06:15:49.757292Z"
    }
   },
   "cell_type": "code",
   "source": [
    "result_int = secondInDay // seconds_per_hour\n",
    "print(result_int)"
   ],
   "id": "b24e2a3415080ed2",
   "outputs": [
    {
     "name": "stdout",
     "output_type": "stream",
     "text": [
      "24\n"
     ]
    }
   ],
   "execution_count": 21
  }
 ],
 "metadata": {
  "kernelspec": {
   "display_name": "Python 3",
   "language": "python",
   "name": "python3"
  },
  "language_info": {
   "codemirror_mode": {
    "name": "ipython",
    "version": 2
   },
   "file_extension": ".py",
   "mimetype": "text/x-python",
   "name": "python",
   "nbconvert_exporter": "python",
   "pygments_lexer": "ipython2",
   "version": "2.7.6"
  }
 },
 "nbformat": 4,
 "nbformat_minor": 5
}
